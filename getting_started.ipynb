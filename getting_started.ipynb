{
 "cells": [
  {
   "cell_type": "markdown",
   "metadata": {},
   "source": [
    "# Deep Q Network (DQN)\n",
    "In this notebook, we will run a DQN agent. <br>\n",
    "This notebook is only an interface between the agent and the environment. <br>\n",
    "If you are learning DQN, the most important code to understand is dqn.py . You should look through dqn.py before running this notebook. <br>"
   ]
  },
  {
   "cell_type": "code",
   "execution_count": 1,
   "metadata": {
    "scrolled": true
   },
   "outputs": [
    {
     "data": {
      "text/plain": [
       "False"
      ]
     },
     "execution_count": 1,
     "metadata": {},
     "output_type": "execute_result"
    }
   ],
   "source": [
    "import gym\n",
    "import numpy as np\n",
    "import torch\n",
    "import itertools\n",
    "torch.cuda.is_available()"
   ]
  },
  {
   "cell_type": "markdown",
   "metadata": {},
   "source": [
    "We put the hyperparameters in a class format."
   ]
  },
  {
   "cell_type": "code",
   "execution_count": 2,
   "metadata": {},
   "outputs": [],
   "source": [
    "class Args:\n",
    "    gamma = 0.99\n",
    "    tau = 0.003       # target smoothing coefficient(τ)\n",
    "    lr = 0.00025      # learning rate\n",
    "    eps_min = 0.01    # minimum value of epsilon, for epsilon-greedy selection\n",
    "    eps_decays = 1500000 # number of time steps to decay epsilon over\n",
    "    num_steps = 2000000 # total number of training time steps\n",
    "    start_steps = 500 # time steps before learning and using action from policy\n",
    "    hidden_size = 256 # size of hidden layers for value function\n",
    "    batch_size = 256\n",
    "    buffer_size = 1000000\n",
    "    update_freq = 4\n",
    "    cuda = False\n",
    "args = Args()"
   ]
  },
  {
   "cell_type": "markdown",
   "metadata": {},
   "source": [
    "## Instantiate Environment and Agent\n",
    "Here we use a simple environment, CartPole from OpenAI gym, so we learn on it quickly (within thousands of time steps of training). <br>\n",
    "You can also train on other environments with the same code and modified hyperparameters, although that wouldu usually require many more time steps of training. "
   ]
  },
  {
   "cell_type": "code",
   "execution_count": 3,
   "metadata": {},
   "outputs": [
    {
     "name": "stdout",
     "output_type": "stream",
     "text": [
      "pygame 1.9.6\n",
      "Hello from the pygame community. https://www.pygame.org/contribute.html\n"
     ]
    },
    {
     "name": "stderr",
     "output_type": "stream",
     "text": [
      "C:\\Users\\Sumeet\\Anaconda3\\lib\\site-packages\\gym\\logger.py:30: UserWarning: WARN: Box bound precision lowered by casting to float32\n",
      "  warnings.warn(colorize('%s: %s'%('WARN', msg % args), 'yellow'))\n"
     ]
    },
    {
     "name": "stdout",
     "output_type": "stream",
     "text": [
      "state size : 42\n",
      "action space :  Discrete(5)\n",
      "number of actions :  5\n"
     ]
    }
   ],
   "source": [
    "from env import RocketEnv\n",
    "env = RocketEnv()\n",
    "print (\"state size :\", env.observation_space.shape[0])\n",
    "print (\"action space : \", env.action_space)\n",
    "print (\"number of actions : \", env.action_space.n)"
   ]
  },
  {
   "cell_type": "markdown",
   "metadata": {},
   "source": [
    "Here we instantiate our agent. See dqn.py (in this directory) for source code of the DQN agent. <br>\n",
    "We pass the state size, number of actions, action space, and our hyperparameter object as the initial parameters for the agent."
   ]
  },
  {
   "cell_type": "code",
   "execution_count": 4,
   "metadata": {},
   "outputs": [],
   "source": [
    "from dqn import DQN\n",
    "agent = DQN(env.observation_space.shape[0], env.action_space.n, env.action_space, args)"
   ]
  },
  {
   "cell_type": "markdown",
   "metadata": {},
   "source": [
    "We use QuickLogger to log the agent performance while learning. <br>\n",
    "To see the source code of QuickLogger, see the class QuickLogger in utils/loggin.py"
   ]
  },
  {
   "cell_type": "code",
   "execution_count": 5,
   "metadata": {},
   "outputs": [],
   "source": [
    "from utils.loggin import QuickLogger\n",
    "LOG = QuickLogger()\n",
    "LOG.create(\"score\")\n",
    "LOG.create(\"q_loss\")"
   ]
  },
  {
   "cell_type": "markdown",
   "metadata": {},
   "source": [
    "## Learning Loop"
   ]
  },
  {
   "cell_type": "code",
   "execution_count": 10,
   "metadata": {
    "scrolled": true
   },
   "outputs": [],
   "source": [
    "total_numsteps = 1999000\n",
    "for i_episode in itertools.count(1): \n",
    "\n",
    "    episode_reward = 0\n",
    "    episode_steps = 0\n",
    "    done = False\n",
    "    state = env.reset()\n",
    "\n",
    "    while not done:\n",
    "        if total_numsteps < args.start_steps:\n",
    "            action = env.action_space.sample()  # Sample random action\n",
    "        else:\n",
    "            action = agent.act(state)  # Sample action from policy\n",
    "\n",
    "        next_state, reward, done, _ = env.step(action) \n",
    "        episode_steps += 1\n",
    "        total_numsteps += 1\n",
    "        episode_reward += reward\n",
    "\n",
    "        mask = float(not done)\n",
    "        agent.step(state, action, reward, next_state, mask)\n",
    "        \n",
    "        if total_numsteps >= args.start_steps and total_numsteps % args.update_freq == 0:\n",
    "            q_loss = agent.update()\n",
    "            LOG.log(\"q_loss\", q_loss, total_numsteps)\n",
    "\n",
    "        state = next_state\n",
    "    \n",
    "    LOG.log(\"score\", episode_reward, total_numsteps)\n",
    "    if i_episode % 500 == 0:\n",
    "        print(\"Episode: {}, total numsteps: {}, episode steps: {}, reward: {}\".format(i_episode, total_numsteps, episode_steps, round(episode_reward, 2)))\n",
    "\n",
    "    if total_numsteps > args.num_steps:\n",
    "        break"
   ]
  },
  {
   "cell_type": "markdown",
   "metadata": {},
   "source": [
    "Plot the score using the logger we created. You can also plot q_loss to see loss through the learning process."
   ]
  },
  {
   "cell_type": "code",
   "execution_count": 11,
   "metadata": {},
   "outputs": [
    {
     "data": {
      "image/png": "[encoded data removed]",
      "text/plain": [
       "<Figure size 432x288 with 1 Axes>"
      ]
     },
     "metadata": {
      "needs_background": "light"
     },
     "output_type": "display_data"
    }
   ],
   "source": [
    "LOG.visualize(\"score\")"
   ]
  },
  {
   "cell_type": "markdown",
   "metadata": {},
   "source": [
    "## Watch a Trained Agent"
   ]
  },
  {
   "cell_type": "code",
   "execution_count": 9,
   "metadata": {},
   "outputs": [
    {
     "name": "stdout",
     "output_type": "stream",
     "text": [
      "watching episode  1\n",
      "watching episode  2\n",
      "watching episode  3\n",
      "watching episode  4\n",
      "watching episode  5\n",
      "closing RocketEnv\n"
     ]
    }
   ],
   "source": [
    "import time\n",
    "for i in range(5):\n",
    "    state = env.reset()\n",
    "    done = False\n",
    "    print (\"watching episode \", i + 1)\n",
    "    while not done:\n",
    "        action = agent.act(state)\n",
    "        env.render()\n",
    "        next_state, reward, done, _ = env.step(action)\n",
    "        state = next_state\n",
    "\n",
    "env.close()"
   ]
  },
  {
   "cell_type": "code",
   "execution_count": null,
   "metadata": {},
   "outputs": [],
   "source": []
  }
 ],
 "metadata": {
  "kernelspec": {
   "display_name": "Python 3",
   "language": "python",
   "name": "python3"
  },
  "language_info": {
   "codemirror_mode": {
    "name": "ipython",
    "version": 3
   },
   "file_extension": ".py",
   "mimetype": "text/x-python",
   "name": "python",
   "nbconvert_exporter": "python",
   "pygments_lexer": "ipython3",
   "version": "3.7.4"
  }
 },
 "nbformat": 4,
 "nbformat_minor": 2
}
